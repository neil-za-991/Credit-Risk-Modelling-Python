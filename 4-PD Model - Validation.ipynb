{
 "cells": [
  {
   "cell_type": "markdown",
   "id": "4828fd17",
   "metadata": {},
   "source": [
    "# PD Model Valiation"
   ]
  },
  {
   "cell_type": "markdown",
   "id": "113f0198",
   "metadata": {},
   "source": [
    "### Out of sample validation (test)"
   ]
  },
  {
   "cell_type": "code",
   "execution_count": 19,
   "id": "4b551ab5",
   "metadata": {},
   "outputs": [],
   "source": [
    "import pandas as pd\n",
    "pd.set_option(\"display.max_columns\", None)\n",
    "pd.set_option(\"display.max_rows\", None)\n",
    "import numpy as np\n",
    "import pickle\n",
    "# Class to display p-values for logistic regression in sklearn.\n",
    "\n",
    "from sklearn import linear_model\n",
    "import scipy.stats as stat\n",
    "\n",
    "class LogisticRegression_with_p_values:\n",
    "    \n",
    "    def __init__(self,*args,**kwargs):#,**kwargs):\n",
    "        self.model = linear_model.LogisticRegression(*args,**kwargs)#,**args)\n",
    "\n",
    "    def fit(self,X,y):\n",
    "        self.model.fit(X,y)\n",
    "        \n",
    "        #### Get p-values for the fitted model ####\n",
    "        denom = (2.0 * (1.0 + np.cosh(self.model.decision_function(X))))\n",
    "        denom = np.tile(denom,(X.shape[1],1)).T\n",
    "        F_ij = np.dot((X / denom).T,X) ## Fisher Information Matrix\n",
    "        Cramer_Rao = np.linalg.inv(F_ij) ## Inverse Information Matrix\n",
    "        sigma_estimates = np.sqrt(np.diagonal(Cramer_Rao))\n",
    "        z_scores = self.model.coef_[0] / sigma_estimates # z-score for eaach model coefficient\n",
    "        p_values = [stat.norm.sf(abs(x)) * 2 for x in z_scores] ### two tailed test for p-values\n",
    "        \n",
    "        self.coef_ = self.model.coef_\n",
    "        self.intercept_ = self.model.intercept_\n",
    "        self.p_values = p_values\n",
    "\n",
    "\n",
    "loan_data_inputs_test = pd.read_csv(r'D:\\Datasets\\LendingClub\\loan_data_inputs_test.csv', index_col=0)\n",
    "loan_data_targets_test = pd.read_csv(r'D:\\Datasets\\LendingClub\\loan_data_targets_test.csv', index_col=0).values.reshape(-1,)"
   ]
  },
  {
   "cell_type": "code",
   "execution_count": 20,
   "id": "dd8280a2",
   "metadata": {},
   "outputs": [],
   "source": [
    "inputs_test_with_ref_cat = loan_data_inputs_test.loc[: , ['grade:A',\n",
    "'grade:B',\n",
    "'grade:C',\n",
    "'grade:D',\n",
    "'grade:E',\n",
    "'grade:F',\n",
    "'grade:G',\n",
    "'home_ownership:RENT_OTHER_NONE_ANY',\n",
    "'home_ownership:OWN',\n",
    "'home_ownership:MORTGAGE',\n",
    "'addr_state:ME_DC_WY_WV_VT_MS',\n",
    "'addr_state:NY',\n",
    "'addr_state:RI_NM_NC_OK_SD_VA_LA',\n",
    "'addr_state:MD_NJ_MO',\n",
    "'addr_state:CA',\n",
    "'addr_state:ID_TN',\n",
    "'addr_state:AZ_MI_UT_AR_PA_OH_MN_IN',\n",
    "'addr_state:KY_MA_GA_WA_WI_DE',\n",
    "'addr_state:OR_IL',\n",
    "'addr_state:TX',\n",
    "'addr_state:CT_SC_AK',\n",
    "'addr_state:KS_CO_MT_NH',\n",
    "'verification_status:Verified',\n",
    "'verification_status:Source Verified',\n",
    "'verification_status:Not Verified',\n",
    "'purpose:edu_sb_re_m_h_other',\n",
    "'purpose:med_wed_vac',\n",
    "'purpose:debt_consolidation',\n",
    "'purpose:hi_mp_car',\n",
    "'purpose:credit_card',\n",
    "'initial_list_status:f',\n",
    "'initial_list_status:w',\n",
    "'term:36',\n",
    "'term:60',\n",
    "'emp_length:0',\n",
    "'emp_length:1',\n",
    "'emp_length:2-4',\n",
    "'emp_length:5-6',\n",
    "'emp_length:7-9',\n",
    "'emp_length:10',\n",
    "'mths_since_issue_d:<38',\n",
    "'mths_since_issue_d:38-39',\n",
    "'mths_since_issue_d:<40-41',\n",
    "'mths_since_issue_d:<42-48',\n",
    "'mths_since_issue_d:<49-52',\n",
    "'mths_since_issue_d:<53-64',\n",
    "'mths_since_issue_d:<65-84',\n",
    "'mths_since_issue_d:>84',\n",
    "'int_rate:<9.548',\n",
    "'int_rate:9.548-12.025',\n",
    "'int_rate:12.025-15.74',\n",
    "'int_rate:15.74-20.281',\n",
    "'int_rate:>20.281',\n",
    "'mths_since_earliest_cr_line:<142',\n",
    "'mths_since_earliest_cr_line:142-266',\n",
    "'mths_since_earliest_cr_line:266-355',\n",
    "'mths_since_earliest_cr_line:>355',\n",
    "#'delinq_2yrs:0',\n",
    "#'delinq_2yrs:1-3',\n",
    "#'delinq_2yrs:>=4',\n",
    "'inq_last_6mths:0',\n",
    "'inq_last_6mths:1-2',\n",
    "'inq_last_6mths:3-6',\n",
    "'inq_last_6mths:>6',\n",
    "#'open_acc:0',\n",
    "#'open_acc:1-3',\n",
    "#'open_acc:4-12',\n",
    "#'open_acc:13-17',\n",
    "#'open_acc:18-22',\n",
    "#'open_acc:23-25',\n",
    "#'open_acc:26-30',\n",
    "#'open_acc:>=31',\n",
    "#'pub_rec:0-2',\n",
    "#'pub_rec:3-4',\n",
    "#'pub_rec:>=5',\n",
    "#'total_acc:<=25',\n",
    "#'total_acc:25-51',\n",
    "#'total_acc:>=51',\n",
    "'acc_now_delinq:0',\n",
    "'acc_now_delinq:>=1',\n",
    "#'total_rev_hi_lim:<=5K',\n",
    "#'total_rev_hi_lim:5K-10K',\n",
    "#'total_rev_hi_lim:10K-20K',\n",
    "#'total_rev_hi_lim:20K-30K',\n",
    "#'total_rev_hi_lim:30K-40K',\n",
    "#'total_rev_hi_lim:40K-55K',\n",
    "#'total_rev_hi_lim:55K-95K',\n",
    "#'total_rev_hi_lim:>95K',\n",
    "'annual_inc:<20K',\n",
    "'annual_inc:20K-30K',\n",
    "'annual_inc:30K-40K',\n",
    "'annual_inc:40K-50K',\n",
    "'annual_inc:50K-60K',\n",
    "'annual_inc:60K-70K',\n",
    "'annual_inc:70K-80K',\n",
    "'annual_inc:80K-90K',\n",
    "'annual_inc:90K-100K',\n",
    "'annual_inc:100K-120K',\n",
    "'annual_inc:120K-140K',\n",
    "'annual_inc:>140K',\n",
    "'mths_since_last_delinq:Missing',\n",
    "'mths_since_last_delinq:0-3',\n",
    "'mths_since_last_delinq:4-30',\n",
    "'mths_since_last_delinq:31-56',\n",
    "'mths_since_last_delinq:>=57',\n",
    "'dti:<=1.4',\n",
    "'dti:1.4-3.5',\n",
    "'dti:3.5-7.7',\n",
    "'dti:7.7-10.5',\n",
    "'dti:10.5-16.1',\n",
    "'dti:16.1-20.3',\n",
    "'dti:20.3-21.7',\n",
    "'dti:21.7-22.4',\n",
    "'dti:22.4-35',\n",
    "'dti:>35',\n",
    "'mths_since_last_record:Missing',\n",
    "'mths_since_last_record:0-2',\n",
    "'mths_since_last_record:3-20',\n",
    "'mths_since_last_record:21-31',\n",
    "'mths_since_last_record:32-80',\n",
    "'mths_since_last_record:81-86',\n",
    "'mths_since_last_record:>=86',\n",
    "]]"
   ]
  },
  {
   "cell_type": "code",
   "execution_count": 21,
   "id": "08422fe3",
   "metadata": {},
   "outputs": [],
   "source": [
    "# removing one dummy variable for k-1\n",
    "ref_categories = ['grade:G',\n",
    "                'home_ownership:RENT_OTHER_NONE_ANY',\n",
    "                'addr_state:ND_NE_IA_NV_HI_FL_AL',\n",
    "                'verification_status:Verified',\n",
    "                'purpose:edu_sb_re_m_h_other',\n",
    "                 'initial_list_status:f',\n",
    "                 'term:60',\n",
    "                 'emp_length:0',\n",
    "                 'mths_since_issue_d:>84',\n",
    "                 'int_rate:>20.281',\n",
    "                 'mths_since_earliest_cr_line:<142',\n",
    "                 'delinq_2yrs:>=4',\n",
    "                 'inq_last_6mths:>6',\n",
    "                 'open_acc:0',\n",
    "                 'pub_rec:>=5',\n",
    "                 'total_acc:<=25',\n",
    "                 'acc_now_delinq:>=1',\n",
    "                 'total_rev_hi_lim<=5K',\n",
    "                 'annual_inc:<20K',\n",
    "                 'mths_since_last_delinq:Missing',\n",
    "                 'dti>35',\n",
    "                 'mths_since_last_record:Missing']"
   ]
  },
  {
   "cell_type": "code",
   "execution_count": 22,
   "id": "2ee72f25",
   "metadata": {},
   "outputs": [],
   "source": [
    "# selecting the desires columns\n",
    "sel_cols = [c for c in inputs_test_with_ref_cat.columns if c not in ref_categories]"
   ]
  },
  {
   "cell_type": "code",
   "execution_count": null,
   "id": "4975c1e1",
   "metadata": {},
   "outputs": [],
   "source": []
  },
  {
   "cell_type": "code",
   "execution_count": 23,
   "id": "3372af52",
   "metadata": {},
   "outputs": [],
   "source": [
    "inputs_test = inputs_test_with_ref_cat[sel_cols]\n",
    "# loan_data_targets_test"
   ]
  },
  {
   "cell_type": "code",
   "execution_count": 24,
   "id": "4ae587de",
   "metadata": {},
   "outputs": [
    {
     "data": {
      "text/plain": [
       "(93257, 82)"
      ]
     },
     "execution_count": 24,
     "metadata": {},
     "output_type": "execute_result"
    }
   ],
   "source": [
    "inputs_test.shape"
   ]
  },
  {
   "cell_type": "code",
   "execution_count": 25,
   "id": "bd8d53cd",
   "metadata": {},
   "outputs": [],
   "source": [
    "loaded_model = pickle.load(open('pd_model.sav', 'rb'))"
   ]
  },
  {
   "cell_type": "code",
   "execution_count": 26,
   "id": "85765c42",
   "metadata": {},
   "outputs": [],
   "source": [
    "# predicted classes\n",
    "y_hat_test = loaded_model.model.predict(inputs_test)"
   ]
  },
  {
   "cell_type": "code",
   "execution_count": 30,
   "id": "2c0c9f3b",
   "metadata": {},
   "outputs": [],
   "source": [
    "y_hat_test_proba = loaded_model.model.predict_proba(inputs_test)"
   ]
  },
  {
   "cell_type": "code",
   "execution_count": 31,
   "id": "398edee8",
   "metadata": {},
   "outputs": [
    {
     "data": {
      "text/plain": [
       "array([[0.05850652, 0.94149348],\n",
       "       [0.11849123, 0.88150877],\n",
       "       [0.28477727, 0.71522273],\n",
       "       ...,\n",
       "       [0.03732879, 0.96267121],\n",
       "       [0.14384913, 0.85615087],\n",
       "       [0.11516422, 0.88483578]])"
      ]
     },
     "execution_count": 31,
     "metadata": {},
     "output_type": "execute_result"
    }
   ],
   "source": [
    "y_hat_test_proba\n",
    "# first element is probability of default\n",
    "# second element is probability of being a good borrower"
   ]
  },
  {
   "cell_type": "code",
   "execution_count": 33,
   "id": "1739dee9",
   "metadata": {},
   "outputs": [],
   "source": [
    "# probability of being a good borrower\n",
    "y_hat_test_proba = y_hat_test_proba[:][:, 1]"
   ]
  },
  {
   "cell_type": "code",
   "execution_count": 34,
   "id": "1a905c59",
   "metadata": {},
   "outputs": [
    {
     "data": {
      "text/plain": [
       "array([0.94149348, 0.88150877, 0.71522273, ..., 0.96267121, 0.85615087,\n",
       "       0.88483578])"
      ]
     },
     "execution_count": 34,
     "metadata": {},
     "output_type": "execute_result"
    }
   ],
   "source": [
    "y_hat_test_proba"
   ]
  },
  {
   "cell_type": "code",
   "execution_count": 35,
   "id": "bcab3e59",
   "metadata": {},
   "outputs": [],
   "source": [
    "loan_data_targets_test_temp = loan_data_targets_test"
   ]
  },
  {
   "cell_type": "code",
   "execution_count": 40,
   "id": "dfbb0489",
   "metadata": {},
   "outputs": [
    {
     "data": {
      "text/html": [
       "<div>\n",
       "<style scoped>\n",
       "    .dataframe tbody tr th:only-of-type {\n",
       "        vertical-align: middle;\n",
       "    }\n",
       "\n",
       "    .dataframe tbody tr th {\n",
       "        vertical-align: top;\n",
       "    }\n",
       "\n",
       "    .dataframe thead th {\n",
       "        text-align: right;\n",
       "    }\n",
       "</style>\n",
       "<table border=\"1\" class=\"dataframe\">\n",
       "  <thead>\n",
       "    <tr style=\"text-align: right;\">\n",
       "      <th></th>\n",
       "      <th>loan_data_targets_test</th>\n",
       "      <th>y_hat_test_proba</th>\n",
       "    </tr>\n",
       "  </thead>\n",
       "  <tbody>\n",
       "    <tr>\n",
       "      <th>0</th>\n",
       "      <td>1</td>\n",
       "      <td>0.941493</td>\n",
       "    </tr>\n",
       "    <tr>\n",
       "      <th>1</th>\n",
       "      <td>1</td>\n",
       "      <td>0.881509</td>\n",
       "    </tr>\n",
       "    <tr>\n",
       "      <th>2</th>\n",
       "      <td>1</td>\n",
       "      <td>0.715223</td>\n",
       "    </tr>\n",
       "    <tr>\n",
       "      <th>3</th>\n",
       "      <td>1</td>\n",
       "      <td>0.941492</td>\n",
       "    </tr>\n",
       "    <tr>\n",
       "      <th>4</th>\n",
       "      <td>1</td>\n",
       "      <td>0.674983</td>\n",
       "    </tr>\n",
       "  </tbody>\n",
       "</table>\n",
       "</div>"
      ],
      "text/plain": [
       "   loan_data_targets_test  y_hat_test_proba\n",
       "0                       1          0.941493\n",
       "1                       1          0.881509\n",
       "2                       1          0.715223\n",
       "3                       1          0.941492\n",
       "4                       1          0.674983"
      ]
     },
     "execution_count": 40,
     "metadata": {},
     "output_type": "execute_result"
    }
   ],
   "source": [
    "df_actual_predicted_probs = pd.concat([pd.DataFrame(loan_data_targets_test_temp), pd.DataFrame(y_hat_test_proba)], axis=1)\n",
    "df_actual_predicted_probs.columns = ['loan_data_targets_test', 'y_hat_test_proba']\n",
    "df_actual_predicted_probs.head()"
   ]
  },
  {
   "cell_type": "code",
   "execution_count": 41,
   "id": "efc48250",
   "metadata": {},
   "outputs": [
    {
     "data": {
      "text/html": [
       "<div>\n",
       "<style scoped>\n",
       "    .dataframe tbody tr th:only-of-type {\n",
       "        vertical-align: middle;\n",
       "    }\n",
       "\n",
       "    .dataframe tbody tr th {\n",
       "        vertical-align: top;\n",
       "    }\n",
       "\n",
       "    .dataframe thead th {\n",
       "        text-align: right;\n",
       "    }\n",
       "</style>\n",
       "<table border=\"1\" class=\"dataframe\">\n",
       "  <thead>\n",
       "    <tr style=\"text-align: right;\">\n",
       "      <th></th>\n",
       "      <th>loan_data_targets_test</th>\n",
       "      <th>y_hat_test_proba</th>\n",
       "    </tr>\n",
       "  </thead>\n",
       "  <tbody>\n",
       "    <tr>\n",
       "      <th>421662</th>\n",
       "      <td>1</td>\n",
       "      <td>0.941493</td>\n",
       "    </tr>\n",
       "    <tr>\n",
       "      <th>345847</th>\n",
       "      <td>1</td>\n",
       "      <td>0.881509</td>\n",
       "    </tr>\n",
       "    <tr>\n",
       "      <th>87245</th>\n",
       "      <td>1</td>\n",
       "      <td>0.715223</td>\n",
       "    </tr>\n",
       "    <tr>\n",
       "      <th>422411</th>\n",
       "      <td>1</td>\n",
       "      <td>0.941492</td>\n",
       "    </tr>\n",
       "    <tr>\n",
       "      <th>131614</th>\n",
       "      <td>1</td>\n",
       "      <td>0.674983</td>\n",
       "    </tr>\n",
       "  </tbody>\n",
       "</table>\n",
       "</div>"
      ],
      "text/plain": [
       "        loan_data_targets_test  y_hat_test_proba\n",
       "421662                       1          0.941493\n",
       "345847                       1          0.881509\n",
       "87245                        1          0.715223\n",
       "422411                       1          0.941492\n",
       "131614                       1          0.674983"
      ]
     },
     "execution_count": 41,
     "metadata": {},
     "output_type": "execute_result"
    }
   ],
   "source": [
    "# setting the index as the same as the testing data \n",
    "df_actual_predicted_probs.index = loan_data_inputs_test.index\n",
    "df_actual_predicted_probs.head()"
   ]
  },
  {
   "cell_type": "markdown",
   "id": "53a170bd",
   "metadata": {},
   "source": [
    "### Accuracy and Area under curve"
   ]
  },
  {
   "cell_type": "code",
   "execution_count": 42,
   "id": "c1dae6a2",
   "metadata": {},
   "outputs": [
    {
     "data": {
      "text/html": [
       "<div>\n",
       "<style scoped>\n",
       "    .dataframe tbody tr th:only-of-type {\n",
       "        vertical-align: middle;\n",
       "    }\n",
       "\n",
       "    .dataframe tbody tr th {\n",
       "        vertical-align: top;\n",
       "    }\n",
       "\n",
       "    .dataframe thead th {\n",
       "        text-align: right;\n",
       "    }\n",
       "</style>\n",
       "<table border=\"1\" class=\"dataframe\">\n",
       "  <thead>\n",
       "    <tr style=\"text-align: right;\">\n",
       "      <th></th>\n",
       "      <th>loan_data_targets_test</th>\n",
       "      <th>y_hat_test_proba</th>\n",
       "      <th>y_hat_test</th>\n",
       "    </tr>\n",
       "  </thead>\n",
       "  <tbody>\n",
       "    <tr>\n",
       "      <th>421662</th>\n",
       "      <td>1</td>\n",
       "      <td>0.941493</td>\n",
       "      <td>1</td>\n",
       "    </tr>\n",
       "    <tr>\n",
       "      <th>345847</th>\n",
       "      <td>1</td>\n",
       "      <td>0.881509</td>\n",
       "      <td>1</td>\n",
       "    </tr>\n",
       "    <tr>\n",
       "      <th>87245</th>\n",
       "      <td>1</td>\n",
       "      <td>0.715223</td>\n",
       "      <td>1</td>\n",
       "    </tr>\n",
       "    <tr>\n",
       "      <th>422411</th>\n",
       "      <td>1</td>\n",
       "      <td>0.941492</td>\n",
       "      <td>1</td>\n",
       "    </tr>\n",
       "    <tr>\n",
       "      <th>131614</th>\n",
       "      <td>1</td>\n",
       "      <td>0.674983</td>\n",
       "      <td>1</td>\n",
       "    </tr>\n",
       "  </tbody>\n",
       "</table>\n",
       "</div>"
      ],
      "text/plain": [
       "        loan_data_targets_test  y_hat_test_proba  y_hat_test\n",
       "421662                       1          0.941493           1\n",
       "345847                       1          0.881509           1\n",
       "87245                        1          0.715223           1\n",
       "422411                       1          0.941492           1\n",
       "131614                       1          0.674983           1"
      ]
     },
     "execution_count": 42,
     "metadata": {},
     "output_type": "execute_result"
    }
   ],
   "source": [
    "# cutoff threshold\n",
    "tr = 0.5\n",
    "df_actual_predicted_probs['y_hat_test'] = np.where(df_actual_predicted_probs['y_hat_test_proba'] > tr, 1, 0)\n",
    "df_actual_predicted_probs.head()"
   ]
  },
  {
   "cell_type": "code",
   "execution_count": 43,
   "id": "79ac902f",
   "metadata": {},
   "outputs": [
    {
     "data": {
      "text/html": [
       "<div>\n",
       "<style scoped>\n",
       "    .dataframe tbody tr th:only-of-type {\n",
       "        vertical-align: middle;\n",
       "    }\n",
       "\n",
       "    .dataframe tbody tr th {\n",
       "        vertical-align: top;\n",
       "    }\n",
       "\n",
       "    .dataframe thead th {\n",
       "        text-align: right;\n",
       "    }\n",
       "</style>\n",
       "<table border=\"1\" class=\"dataframe\">\n",
       "  <thead>\n",
       "    <tr style=\"text-align: right;\">\n",
       "      <th>Predicted</th>\n",
       "      <th>0</th>\n",
       "      <th>1</th>\n",
       "    </tr>\n",
       "    <tr>\n",
       "      <th>Actual</th>\n",
       "      <th></th>\n",
       "      <th></th>\n",
       "    </tr>\n",
       "  </thead>\n",
       "  <tbody>\n",
       "    <tr>\n",
       "      <th>0</th>\n",
       "      <td>10</td>\n",
       "      <td>10094</td>\n",
       "    </tr>\n",
       "    <tr>\n",
       "      <th>1</th>\n",
       "      <td>14</td>\n",
       "      <td>83139</td>\n",
       "    </tr>\n",
       "  </tbody>\n",
       "</table>\n",
       "</div>"
      ],
      "text/plain": [
       "Predicted   0      1\n",
       "Actual              \n",
       "0          10  10094\n",
       "1          14  83139"
      ]
     },
     "execution_count": 43,
     "metadata": {},
     "output_type": "execute_result"
    }
   ],
   "source": [
    "# confusion matrix for model evaluation\n",
    "# TP FP\n",
    "# FN TN\n",
    "pd.crosstab(df_actual_predicted_probs['loan_data_targets_test'], df_actual_predicted_probs['y_hat_test'],\n",
    "           rownames = ['Actual'], colnames = ['Predicted'])"
   ]
  },
  {
   "cell_type": "code",
   "execution_count": 48,
   "id": "974a32e2",
   "metadata": {},
   "outputs": [
    {
     "data": {
      "text/html": [
       "<div>\n",
       "<style scoped>\n",
       "    .dataframe tbody tr th:only-of-type {\n",
       "        vertical-align: middle;\n",
       "    }\n",
       "\n",
       "    .dataframe tbody tr th {\n",
       "        vertical-align: top;\n",
       "    }\n",
       "\n",
       "    .dataframe thead th {\n",
       "        text-align: right;\n",
       "    }\n",
       "</style>\n",
       "<table border=\"1\" class=\"dataframe\">\n",
       "  <thead>\n",
       "    <tr style=\"text-align: right;\">\n",
       "      <th>Predicted</th>\n",
       "      <th>0</th>\n",
       "      <th>1</th>\n",
       "    </tr>\n",
       "    <tr>\n",
       "      <th>Actual</th>\n",
       "      <th></th>\n",
       "      <th></th>\n",
       "    </tr>\n",
       "  </thead>\n",
       "  <tbody>\n",
       "    <tr>\n",
       "      <th>0</th>\n",
       "      <td>0.000107</td>\n",
       "      <td>0.108239</td>\n",
       "    </tr>\n",
       "    <tr>\n",
       "      <th>1</th>\n",
       "      <td>0.000150</td>\n",
       "      <td>0.891504</td>\n",
       "    </tr>\n",
       "  </tbody>\n",
       "</table>\n",
       "</div>"
      ],
      "text/plain": [
       "Predicted         0         1\n",
       "Actual                       \n",
       "0          0.000107  0.108239\n",
       "1          0.000150  0.891504"
      ]
     },
     "execution_count": 48,
     "metadata": {},
     "output_type": "execute_result"
    }
   ],
   "source": [
    "# as proportions \n",
    "pd.crosstab(df_actual_predicted_probs['loan_data_targets_test'], df_actual_predicted_probs['y_hat_test'],\n",
    "           rownames = ['Actual'], colnames = ['Predicted']) / df_actual_predicted_probs.shape[0]"
   ]
  },
  {
   "cell_type": "code",
   "execution_count": 47,
   "id": "2fb1819d",
   "metadata": {},
   "outputs": [
    {
     "data": {
      "text/plain": [
       "0.8916113535713137"
      ]
     },
     "execution_count": 47,
     "metadata": {},
     "output_type": "execute_result"
    }
   ],
   "source": [
    "# accuracy of the model\n",
    "# total correctly predicted / total number of observations\n",
    "(pd.crosstab(df_actual_predicted_probs['loan_data_targets_test'], df_actual_predicted_probs['y_hat_test'],\n",
    "           rownames = ['Actual'], colnames = ['Predicted']) / df_actual_predicted_probs.shape[0]).iloc[0,0] + (pd.crosstab(df_actual_predicted_probs['loan_data_targets_test'], df_actual_predicted_probs['y_hat_test'],\n",
    "           rownames = ['Actual'], colnames = ['Predicted']) / df_actual_predicted_probs.shape[0]).iloc[1, 1]"
   ]
  },
  {
   "cell_type": "code",
   "execution_count": 49,
   "id": "11b085fe",
   "metadata": {},
   "outputs": [
    {
     "data": {
      "text/html": [
       "<div>\n",
       "<style scoped>\n",
       "    .dataframe tbody tr th:only-of-type {\n",
       "        vertical-align: middle;\n",
       "    }\n",
       "\n",
       "    .dataframe tbody tr th {\n",
       "        vertical-align: top;\n",
       "    }\n",
       "\n",
       "    .dataframe thead th {\n",
       "        text-align: right;\n",
       "    }\n",
       "</style>\n",
       "<table border=\"1\" class=\"dataframe\">\n",
       "  <thead>\n",
       "    <tr style=\"text-align: right;\">\n",
       "      <th>Predicted</th>\n",
       "      <th>0</th>\n",
       "      <th>1</th>\n",
       "    </tr>\n",
       "    <tr>\n",
       "      <th>Actual</th>\n",
       "      <th></th>\n",
       "      <th></th>\n",
       "    </tr>\n",
       "  </thead>\n",
       "  <tbody>\n",
       "    <tr>\n",
       "      <th>0</th>\n",
       "      <td>10</td>\n",
       "      <td>10094</td>\n",
       "    </tr>\n",
       "    <tr>\n",
       "      <th>1</th>\n",
       "      <td>14</td>\n",
       "      <td>83139</td>\n",
       "    </tr>\n",
       "  </tbody>\n",
       "</table>\n",
       "</div>"
      ],
      "text/plain": [
       "Predicted   0      1\n",
       "Actual              \n",
       "0          10  10094\n",
       "1          14  83139"
      ]
     },
     "execution_count": 49,
     "metadata": {},
     "output_type": "execute_result"
    }
   ],
   "source": [
    "pd.crosstab(df_actual_predicted_probs['loan_data_targets_test'], df_actual_predicted_probs['y_hat_test'],\n",
    "           rownames = ['Actual'], colnames = ['Predicted'])"
   ]
  },
  {
   "cell_type": "code",
   "execution_count": null,
   "id": "d931bbf3",
   "metadata": {},
   "outputs": [],
   "source": [
    "# 10 correctly predicted bads\n",
    "# 10094 bads predicted as goods\n",
    "# 83139 correctly predicted goods\n",
    "# 14 goods predicted as bads\n",
    "\n",
    "# TP FP\n",
    "# FN TN"
   ]
  },
  {
   "cell_type": "code",
   "execution_count": 50,
   "id": "d34a1d00",
   "metadata": {},
   "outputs": [
    {
     "data": {
      "text/html": [
       "<div>\n",
       "<style scoped>\n",
       "    .dataframe tbody tr th:only-of-type {\n",
       "        vertical-align: middle;\n",
       "    }\n",
       "\n",
       "    .dataframe tbody tr th {\n",
       "        vertical-align: top;\n",
       "    }\n",
       "\n",
       "    .dataframe thead th {\n",
       "        text-align: right;\n",
       "    }\n",
       "</style>\n",
       "<table border=\"1\" class=\"dataframe\">\n",
       "  <thead>\n",
       "    <tr style=\"text-align: right;\">\n",
       "      <th></th>\n",
       "      <th>loan_data_targets_test</th>\n",
       "      <th>y_hat_test_proba</th>\n",
       "      <th>y_hat_test</th>\n",
       "    </tr>\n",
       "  </thead>\n",
       "  <tbody>\n",
       "    <tr>\n",
       "      <th>421662</th>\n",
       "      <td>1</td>\n",
       "      <td>0.941493</td>\n",
       "      <td>1</td>\n",
       "    </tr>\n",
       "    <tr>\n",
       "      <th>345847</th>\n",
       "      <td>1</td>\n",
       "      <td>0.881509</td>\n",
       "      <td>0</td>\n",
       "    </tr>\n",
       "    <tr>\n",
       "      <th>87245</th>\n",
       "      <td>1</td>\n",
       "      <td>0.715223</td>\n",
       "      <td>0</td>\n",
       "    </tr>\n",
       "    <tr>\n",
       "      <th>422411</th>\n",
       "      <td>1</td>\n",
       "      <td>0.941492</td>\n",
       "      <td>1</td>\n",
       "    </tr>\n",
       "    <tr>\n",
       "      <th>131614</th>\n",
       "      <td>1</td>\n",
       "      <td>0.674983</td>\n",
       "      <td>0</td>\n",
       "    </tr>\n",
       "  </tbody>\n",
       "</table>\n",
       "</div>"
      ],
      "text/plain": [
       "        loan_data_targets_test  y_hat_test_proba  y_hat_test\n",
       "421662                       1          0.941493           1\n",
       "345847                       1          0.881509           0\n",
       "87245                        1          0.715223           0\n",
       "422411                       1          0.941492           1\n",
       "131614                       1          0.674983           0"
      ]
     },
     "execution_count": 50,
     "metadata": {},
     "output_type": "execute_result"
    }
   ],
   "source": [
    "# changing the threshold\n",
    "# cutoff threshold\n",
    "tr = 0.9\n",
    "df_actual_predicted_probs['y_hat_test'] = np.where(df_actual_predicted_probs['y_hat_test_proba'] > tr, 1, 0)\n",
    "df_actual_predicted_probs.head()"
   ]
  },
  {
   "cell_type": "code",
   "execution_count": 51,
   "id": "dac0ee19",
   "metadata": {},
   "outputs": [
    {
     "data": {
      "text/html": [
       "<div>\n",
       "<style scoped>\n",
       "    .dataframe tbody tr th:only-of-type {\n",
       "        vertical-align: middle;\n",
       "    }\n",
       "\n",
       "    .dataframe tbody tr th {\n",
       "        vertical-align: top;\n",
       "    }\n",
       "\n",
       "    .dataframe thead th {\n",
       "        text-align: right;\n",
       "    }\n",
       "</style>\n",
       "<table border=\"1\" class=\"dataframe\">\n",
       "  <thead>\n",
       "    <tr style=\"text-align: right;\">\n",
       "      <th>Predicted</th>\n",
       "      <th>0</th>\n",
       "      <th>1</th>\n",
       "    </tr>\n",
       "    <tr>\n",
       "      <th>Actual</th>\n",
       "      <th></th>\n",
       "      <th></th>\n",
       "    </tr>\n",
       "  </thead>\n",
       "  <tbody>\n",
       "    <tr>\n",
       "      <th>0</th>\n",
       "      <td>7156</td>\n",
       "      <td>2948</td>\n",
       "    </tr>\n",
       "    <tr>\n",
       "      <th>1</th>\n",
       "      <td>34893</td>\n",
       "      <td>48260</td>\n",
       "    </tr>\n",
       "  </tbody>\n",
       "</table>\n",
       "</div>"
      ],
      "text/plain": [
       "Predicted      0      1\n",
       "Actual                 \n",
       "0           7156   2948\n",
       "1          34893  48260"
      ]
     },
     "execution_count": 51,
     "metadata": {},
     "output_type": "execute_result"
    }
   ],
   "source": [
    "# confusion matrix for model evaluation\n",
    "# TP FP\n",
    "# FN TN\n",
    "pd.crosstab(df_actual_predicted_probs['loan_data_targets_test'], df_actual_predicted_probs['y_hat_test'],\n",
    "           rownames = ['Actual'], colnames = ['Predicted'])"
   ]
  },
  {
   "cell_type": "code",
   "execution_count": 52,
   "id": "5f2b4933",
   "metadata": {},
   "outputs": [
    {
     "data": {
      "text/html": [
       "<div>\n",
       "<style scoped>\n",
       "    .dataframe tbody tr th:only-of-type {\n",
       "        vertical-align: middle;\n",
       "    }\n",
       "\n",
       "    .dataframe tbody tr th {\n",
       "        vertical-align: top;\n",
       "    }\n",
       "\n",
       "    .dataframe thead th {\n",
       "        text-align: right;\n",
       "    }\n",
       "</style>\n",
       "<table border=\"1\" class=\"dataframe\">\n",
       "  <thead>\n",
       "    <tr style=\"text-align: right;\">\n",
       "      <th>Predicted</th>\n",
       "      <th>0</th>\n",
       "      <th>1</th>\n",
       "    </tr>\n",
       "    <tr>\n",
       "      <th>Actual</th>\n",
       "      <th></th>\n",
       "      <th></th>\n",
       "    </tr>\n",
       "  </thead>\n",
       "  <tbody>\n",
       "    <tr>\n",
       "      <th>0</th>\n",
       "      <td>0.076734</td>\n",
       "      <td>0.031612</td>\n",
       "    </tr>\n",
       "    <tr>\n",
       "      <th>1</th>\n",
       "      <td>0.374160</td>\n",
       "      <td>0.517495</td>\n",
       "    </tr>\n",
       "  </tbody>\n",
       "</table>\n",
       "</div>"
      ],
      "text/plain": [
       "Predicted         0         1\n",
       "Actual                       \n",
       "0          0.076734  0.031612\n",
       "1          0.374160  0.517495"
      ]
     },
     "execution_count": 52,
     "metadata": {},
     "output_type": "execute_result"
    }
   ],
   "source": [
    "# as proportions \n",
    "pd.crosstab(df_actual_predicted_probs['loan_data_targets_test'], df_actual_predicted_probs['y_hat_test'],\n",
    "           rownames = ['Actual'], colnames = ['Predicted']) / df_actual_predicted_probs.shape[0]"
   ]
  },
  {
   "cell_type": "code",
   "execution_count": 53,
   "id": "6c42377f",
   "metadata": {},
   "outputs": [
    {
     "data": {
      "text/plain": [
       "0.5942288514535102"
      ]
     },
     "execution_count": 53,
     "metadata": {},
     "output_type": "execute_result"
    }
   ],
   "source": [
    "# accuracy of the model\n",
    "# total correctly predicted / total number of observations\n",
    "(pd.crosstab(df_actual_predicted_probs['loan_data_targets_test'], df_actual_predicted_probs['y_hat_test'],\n",
    "           rownames = ['Actual'], colnames = ['Predicted']) / df_actual_predicted_probs.shape[0]).iloc[0,0] + (pd.crosstab(df_actual_predicted_probs['loan_data_targets_test'], df_actual_predicted_probs['y_hat_test'],\n",
    "           rownames = ['Actual'], colnames = ['Predicted']) / df_actual_predicted_probs.shape[0]).iloc[1, 1]"
   ]
  },
  {
   "cell_type": "code",
   "execution_count": 54,
   "id": "00d70e24",
   "metadata": {},
   "outputs": [],
   "source": [
    "# receiver operating characteristic curve\n",
    "# shows the accuracy at different cutoff thresholds\n",
    "from sklearn.metrics import roc_curve, roc_auc_score"
   ]
  },
  {
   "cell_type": "code",
   "execution_count": 55,
   "id": "aa8fbb37",
   "metadata": {},
   "outputs": [
    {
     "data": {
      "text/plain": [
       "(array([0.        , 0.        , 0.        , ..., 0.99990103, 1.        ,\n",
       "        1.        ]),\n",
       " array([0.00000000e+00, 1.20260243e-05, 2.52546511e-04, ...,\n",
       "        9.99951896e-01, 9.99951896e-01, 1.00000000e+00]),\n",
       " array([1.99311396, 0.99311396, 0.99099941, ..., 0.37691877, 0.37573814,\n",
       "        0.34376721]))"
      ]
     },
     "execution_count": 55,
     "metadata": {},
     "output_type": "execute_result"
    }
   ],
   "source": [
    "# roc returns three arrays: FP rates, TP rates, thresholds\n",
    "\n",
    "roc_curve(df_actual_predicted_probs['loan_data_targets_test'], df_actual_predicted_probs['y_hat_test_proba'])\n"
   ]
  },
  {
   "cell_type": "code",
   "execution_count": 56,
   "id": "8c44505c",
   "metadata": {},
   "outputs": [],
   "source": [
    "fpr, tpr, thresholds = roc_curve(df_actual_predicted_probs['loan_data_targets_test'], df_actual_predicted_probs['y_hat_test_proba'])"
   ]
  },
  {
   "cell_type": "code",
   "execution_count": 57,
   "id": "3576e96f",
   "metadata": {},
   "outputs": [],
   "source": [
    "import matplotlib.pyplot as plt\n",
    "import seaborn as sns\n",
    "sns.set()"
   ]
  },
  {
   "cell_type": "code",
   "execution_count": 60,
   "id": "5c64f786",
   "metadata": {},
   "outputs": [
    {
     "data": {
      "text/plain": [
       "Text(0.5, 1.0, 'ROC curve')"
      ]
     },
     "execution_count": 60,
     "metadata": {},
     "output_type": "execute_result"
    },
    {
     "data": {
      "image/png": "[encoded data removed]",
      "text/plain": [
       "<Figure size 640x480 with 1 Axes>"
      ]
     },
     "metadata": {},
     "output_type": "display_data"
    }
   ],
   "source": [
    "plt.plot(fpr, tpr) # ROC curve\n",
    "plt.plot(fpr, fpr, linestyle= '--', color='c') # Benchmark 50/50\n",
    "plt.xlabel('False positive rate')\n",
    "plt.ylabel('True positive rate')\n",
    "plt.title('ROC curve')"
   ]
  },
  {
   "cell_type": "code",
   "execution_count": 62,
   "id": "facd08bf",
   "metadata": {},
   "outputs": [
    {
     "data": {
      "text/plain": [
       "0.6992656497020597"
      ]
     },
     "execution_count": 62,
     "metadata": {},
     "output_type": "execute_result"
    }
   ],
   "source": [
    "# area under the ROC curve is AUC is a good measure of how well the classification model is performing\n",
    "# each point on the curve represents different confusion matrices with different cutoff thresholds\n",
    "AUROC = roc_auc_score(df_actual_predicted_probs['loan_data_targets_test'], df_actual_predicted_probs['y_hat_test_proba'])\n",
    "AUROC"
   ]
  },
  {
   "cell_type": "code",
   "execution_count": 63,
   "id": "db2d8f54",
   "metadata": {},
   "outputs": [],
   "source": [
    "# bad = 50-60\n",
    "# poor = 60-70\n",
    "# fair = 70-80\n",
    "# good = 80-90\n",
    "# excellent = 90-100"
   ]
  },
  {
   "cell_type": "code",
   "execution_count": 64,
   "id": "09ad78f1",
   "metadata": {},
   "outputs": [],
   "source": [
    "# gini coefficient - measure inequality between defaulted and non-defaulted borrowers\n",
    "# cumulative proportion of defaulted as function of cumulative proportion of all borrowers\n",
    "# similiar to auc - greater the proportion the better the model\n",
    "\n",
    "# Kolmogorov-Smirnov coefficient\n",
    "# to what extent the model provides seperation between good and bad borrowers"
   ]
  },
  {
   "cell_type": "code",
   "execution_count": 65,
   "id": "c3a2b7a3",
   "metadata": {},
   "outputs": [],
   "source": [
    "# gini coefficient\n",
    "df_actual_predicted_probs = df_actual_predicted_probs.sort_values('y_hat_test_proba')"
   ]
  },
  {
   "cell_type": "code",
   "execution_count": 66,
   "id": "079ff8bc",
   "metadata": {},
   "outputs": [],
   "source": [
    "df_actual_predicted_probs = df_actual_predicted_probs.reset_index()"
   ]
  },
  {
   "cell_type": "code",
   "execution_count": 67,
   "id": "8c45d2d9",
   "metadata": {},
   "outputs": [],
   "source": [
    "# cumulative % total population\n",
    "# cumulative % good borrowers\n",
    "# cumulative % bad borrowers\n",
    "\n",
    "df_actual_predicted_probs['Cumulative N Population'] = df_actual_predicted_probs.index + 1\n",
    "df_actual_predicted_probs['Cumulative N Good'] = df_actual_predicted_probs['loan_data_targets_test'].cumsum()\n",
    "df_actual_predicted_probs['Cumulative N Bad'] = df_actual_predicted_probs['Cumulative N Population'] - df_actual_predicted_probs['loan_data_targets_test'].cumsum()"
   ]
  },
  {
   "cell_type": "code",
   "execution_count": 68,
   "id": "3e7a56b6",
   "metadata": {},
   "outputs": [],
   "source": [
    "df_actual_predicted_probs['Cumulative Perc Population'] = df_actual_predicted_probs['Cumulative N Population'] / df_actual_predicted_probs.shape[0]\n",
    "df_actual_predicted_probs['Cumulative Perc Good'] = df_actual_predicted_probs['Cumulative N Good'] / df_actual_predicted_probs['loan_data_targets_test'].sum()\n",
    "df_actual_predicted_probs['Cumulative Perc Bad'] = df_actual_predicted_probs['Cumulative N Bad'] / (df_actual_predicted_probs.shape[0] - df_actual_predicted_probs['loan_data_targets_test'].sum())"
   ]
  },
  {
   "cell_type": "code",
   "execution_count": 71,
   "id": "620ddebb",
   "metadata": {},
   "outputs": [
    {
     "data": {
      "text/plain": [
       "Text(0.5, 1.0, 'Gini')"
      ]
     },
     "execution_count": 71,
     "metadata": {},
     "output_type": "execute_result"
    },
    {
     "data": {
      "image/png": "[encoded data removed]",
      "text/plain": [
       "<Figure size 640x480 with 1 Axes>"
      ]
     },
     "metadata": {},
     "output_type": "display_data"
    }
   ],
   "source": [
    "# gini = cumulative % bad as function of cumulative % all borrowers\n",
    "plt.plot(df_actual_predicted_probs['Cumulative Perc Population'], df_actual_predicted_probs['Cumulative Perc Bad'])\n",
    "plt.plot(df_actual_predicted_probs['Cumulative Perc Population'], df_actual_predicted_probs['Cumulative Perc Population'], linestyle= '--', color='c')\n",
    "plt.xlabel('Cumulative % All')\n",
    "plt.ylabel('Cumulative % Bad')\n",
    "plt.title('Gini')"
   ]
  },
  {
   "cell_type": "code",
   "execution_count": 72,
   "id": "3a0f645f",
   "metadata": {},
   "outputs": [
    {
     "data": {
      "text/plain": [
       "0.39853129940411947"
      ]
     },
     "execution_count": 72,
     "metadata": {},
     "output_type": "execute_result"
    }
   ],
   "source": [
    "Gini = AUROC * 2 - 1\n",
    "Gini"
   ]
  },
  {
   "cell_type": "code",
   "execution_count": 73,
   "id": "65a3bed9",
   "metadata": {},
   "outputs": [
    {
     "data": {
      "text/plain": [
       "Text(0.5, 1.0, 'Kolmogorov-Smirnov')"
      ]
     },
     "execution_count": 73,
     "metadata": {},
     "output_type": "execute_result"
    },
    {
     "data": {
      "image/png": "[encoded data removed]",
      "text/plain": [
       "<Figure size 640x480 with 1 Axes>"
      ]
     },
     "metadata": {},
     "output_type": "display_data"
    }
   ],
   "source": [
    "# Kolmogorov-Smirnov difference between cumulative bad and cumulative good in binary classification\n",
    "# gini = cumulative % bad as function of cumulative % all borrowers\n",
    "plt.plot(df_actual_predicted_probs['y_hat_test_proba'], df_actual_predicted_probs['Cumulative Perc Bad'], color='r')\n",
    "plt.plot(df_actual_predicted_probs['y_hat_test_proba'], df_actual_predicted_probs['Cumulative Perc Good'], color='b')\n",
    "plt.xlabel('Estimated Probability of being good')\n",
    "plt.ylabel('Cumulative %')\n",
    "plt.title('Kolmogorov-Smirnov')"
   ]
  },
  {
   "cell_type": "code",
   "execution_count": 74,
   "id": "fbde3641",
   "metadata": {},
   "outputs": [
    {
     "data": {
      "text/plain": [
       "0.2886980513717671"
      ]
     },
     "execution_count": 74,
     "metadata": {},
     "output_type": "execute_result"
    }
   ],
   "source": [
    "# KS coefficient is maximum of the difference between cumulative % bad and cumulative perc good\n",
    "KS = max(df_actual_predicted_probs['Cumulative Perc Bad'] - df_actual_predicted_probs['Cumulative Perc Good'])\n",
    "KS"
   ]
  },
  {
   "cell_type": "code",
   "execution_count": null,
   "id": "f48c3c73",
   "metadata": {},
   "outputs": [],
   "source": []
  },
  {
   "cell_type": "code",
   "execution_count": null,
   "id": "cda8c9e7",
   "metadata": {},
   "outputs": [],
   "source": []
  }
 ],
 "metadata": {
  "kernelspec": {
   "display_name": "Python 3 (ipykernel)",
   "language": "python",
   "name": "python3"
  },
  "language_info": {
   "codemirror_mode": {
    "name": "ipython",
    "version": 3
   },
   "file_extension": ".py",
   "mimetype": "text/x-python",
   "name": "python",
   "nbconvert_exporter": "python",
   "pygments_lexer": "ipython3",
   "version": "3.11.0"
  }
 },
 "nbformat": 4,
 "nbformat_minor": 5
}
