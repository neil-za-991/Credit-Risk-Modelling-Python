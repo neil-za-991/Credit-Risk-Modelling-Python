{
 "cells": [
  {
   "cell_type": "code",
   "execution_count": 109,
   "id": "1f8ddde9",
   "metadata": {},
   "outputs": [],
   "source": [
    "import pandas as pd\n",
    "import numpy as np"
   ]
  },
  {
   "cell_type": "code",
   "execution_count": 110,
   "id": "874179a3",
   "metadata": {},
   "outputs": [
    {
     "name": "stderr",
     "output_type": "stream",
     "text": [
      "C:\\Users\\User\\AppData\\Local\\Temp\\ipykernel_9412\\181822990.py:1: DtypeWarning: Columns (20) have mixed types. Specify dtype option on import or set low_memory=False.\n",
      "  loan_data_backup = pd.read_csv(r'D:\\Datasets\\LendingClub\\loan_data_2007_2014.csv')\n"
     ]
    }
   ],
   "source": [
    "loan_data_backup = pd.read_csv(r'D:\\Datasets\\LendingClub\\loan_data_2007_2014.csv')"
   ]
  },
  {
   "cell_type": "code",
   "execution_count": 111,
   "id": "a2ab76c2",
   "metadata": {},
   "outputs": [],
   "source": [
    "loan_data = loan_data_backup.copy()"
   ]
  },
  {
   "cell_type": "code",
   "execution_count": 112,
   "id": "5740b193",
   "metadata": {},
   "outputs": [
    {
     "name": "stdout",
     "output_type": "stream",
     "text": [
      "<class 'pandas.core.frame.DataFrame'>\n",
      "RangeIndex: 466285 entries, 0 to 466284\n",
      "Data columns (total 75 columns):\n",
      " #   Column                       Non-Null Count   Dtype  \n",
      "---  ------                       --------------   -----  \n",
      " 0   Unnamed: 0                   466285 non-null  int64  \n",
      " 1   id                           466285 non-null  int64  \n",
      " 2   member_id                    466285 non-null  int64  \n",
      " 3   loan_amnt                    466285 non-null  int64  \n",
      " 4   funded_amnt                  466285 non-null  int64  \n",
      " 5   funded_amnt_inv              466285 non-null  float64\n",
      " 6   term                         466285 non-null  object \n",
      " 7   int_rate                     466285 non-null  float64\n",
      " 8   installment                  466285 non-null  float64\n",
      " 9   grade                        466285 non-null  object \n",
      " 10  sub_grade                    466285 non-null  object \n",
      " 11  emp_title                    438697 non-null  object \n",
      " 12  emp_length                   445277 non-null  object \n",
      " 13  home_ownership               466285 non-null  object \n",
      " 14  annual_inc                   466281 non-null  float64\n",
      " 15  verification_status          466285 non-null  object \n",
      " 16  issue_d                      466285 non-null  object \n",
      " 17  loan_status                  466285 non-null  object \n",
      " 18  pymnt_plan                   466285 non-null  object \n",
      " 19  url                          466285 non-null  object \n",
      " 20  desc                         125983 non-null  object \n",
      " 21  purpose                      466285 non-null  object \n",
      " 22  title                        466265 non-null  object \n",
      " 23  zip_code                     466285 non-null  object \n",
      " 24  addr_state                   466285 non-null  object \n",
      " 25  dti                          466285 non-null  float64\n",
      " 26  delinq_2yrs                  466256 non-null  float64\n",
      " 27  earliest_cr_line             466256 non-null  object \n",
      " 28  inq_last_6mths               466256 non-null  float64\n",
      " 29  mths_since_last_delinq       215934 non-null  float64\n",
      " 30  mths_since_last_record       62638 non-null   float64\n",
      " 31  open_acc                     466256 non-null  float64\n",
      " 32  pub_rec                      466256 non-null  float64\n",
      " 33  revol_bal                    466285 non-null  int64  \n",
      " 34  revol_util                   465945 non-null  float64\n",
      " 35  total_acc                    466256 non-null  float64\n",
      " 36  initial_list_status          466285 non-null  object \n",
      " 37  out_prncp                    466285 non-null  float64\n",
      " 38  out_prncp_inv                466285 non-null  float64\n",
      " 39  total_pymnt                  466285 non-null  float64\n",
      " 40  total_pymnt_inv              466285 non-null  float64\n",
      " 41  total_rec_prncp              466285 non-null  float64\n",
      " 42  total_rec_int                466285 non-null  float64\n",
      " 43  total_rec_late_fee           466285 non-null  float64\n",
      " 44  recoveries                   466285 non-null  float64\n",
      " 45  collection_recovery_fee      466285 non-null  float64\n",
      " 46  last_pymnt_d                 465909 non-null  object \n",
      " 47  last_pymnt_amnt              466285 non-null  float64\n",
      " 48  next_pymnt_d                 239071 non-null  object \n",
      " 49  last_credit_pull_d           466243 non-null  object \n",
      " 50  collections_12_mths_ex_med   466140 non-null  float64\n",
      " 51  mths_since_last_major_derog  98974 non-null   float64\n",
      " 52  policy_code                  466285 non-null  int64  \n",
      " 53  application_type             466285 non-null  object \n",
      " 54  annual_inc_joint             0 non-null       float64\n",
      " 55  dti_joint                    0 non-null       float64\n",
      " 56  verification_status_joint    0 non-null       float64\n",
      " 57  acc_now_delinq               466256 non-null  float64\n",
      " 58  tot_coll_amt                 396009 non-null  float64\n",
      " 59  tot_cur_bal                  396009 non-null  float64\n",
      " 60  open_acc_6m                  0 non-null       float64\n",
      " 61  open_il_6m                   0 non-null       float64\n",
      " 62  open_il_12m                  0 non-null       float64\n",
      " 63  open_il_24m                  0 non-null       float64\n",
      " 64  mths_since_rcnt_il           0 non-null       float64\n",
      " 65  total_bal_il                 0 non-null       float64\n",
      " 66  il_util                      0 non-null       float64\n",
      " 67  open_rv_12m                  0 non-null       float64\n",
      " 68  open_rv_24m                  0 non-null       float64\n",
      " 69  max_bal_bc                   0 non-null       float64\n",
      " 70  all_util                     0 non-null       float64\n",
      " 71  total_rev_hi_lim             396009 non-null  float64\n",
      " 72  inq_fi                       0 non-null       float64\n",
      " 73  total_cu_tl                  0 non-null       float64\n",
      " 74  inq_last_12m                 0 non-null       float64\n",
      "dtypes: float64(46), int64(7), object(22)\n",
      "memory usage: 266.8+ MB\n"
     ]
    }
   ],
   "source": [
    "loan_data.info()"
   ]
  },
  {
   "cell_type": "markdown",
   "id": "58fb6f23",
   "metadata": {},
   "source": [
    "### Preprocessing continuous variables"
   ]
  },
  {
   "cell_type": "markdown",
   "id": "e031c96c",
   "metadata": {},
   "source": [
    "##### Employment length"
   ]
  },
  {
   "cell_type": "code",
   "execution_count": 113,
   "id": "7b4f1404",
   "metadata": {},
   "outputs": [
    {
     "data": {
      "text/plain": [
       "array(['10+ years', '< 1 year', '1 year', '3 years', '8 years', '9 years',\n",
       "       '4 years', '5 years', '6 years', '2 years', '7 years', nan],\n",
       "      dtype=object)"
      ]
     },
     "execution_count": 113,
     "metadata": {},
     "output_type": "execute_result"
    }
   ],
   "source": [
    "loan_data['emp_length'].unique()"
   ]
  },
  {
   "cell_type": "code",
   "execution_count": 114,
   "id": "08a10c67",
   "metadata": {},
   "outputs": [
    {
     "name": "stderr",
     "output_type": "stream",
     "text": [
      "C:\\Users\\User\\AppData\\Local\\Temp\\ipykernel_9412\\2883447039.py:1: FutureWarning: The default value of regex will change from True to False in a future version.\n",
      "  loan_data['emp_length_int'] = loan_data['emp_length'].str.replace('\\+ years', '')\n"
     ]
    }
   ],
   "source": [
    "loan_data['emp_length_int'] = loan_data['emp_length'].str.replace('\\+ years', '')\n",
    "loan_data['emp_length_int'] = loan_data['emp_length_int'].str.replace('< 1 year', str(0))\n",
    "loan_data['emp_length_int'] = loan_data['emp_length_int'].str.replace('n/a', str(0))\n",
    "loan_data['emp_length_int'] = loan_data['emp_length_int'].str.replace(' years', '')\n",
    "loan_data['emp_length_int'] = loan_data['emp_length_int'].str.replace(' year', '')"
   ]
  },
  {
   "cell_type": "code",
   "execution_count": 115,
   "id": "4c1f2d0d",
   "metadata": {},
   "outputs": [],
   "source": [
    "loan_data['empy_length_int'] = pd.to_numeric(loan_data['emp_length_int'])"
   ]
  },
  {
   "cell_type": "code",
   "execution_count": 116,
   "id": "69bcc190",
   "metadata": {},
   "outputs": [
    {
     "data": {
      "text/plain": [
       "array(['10', '0', '1', '3', '8', '9', '4', '5', '6', '2', '7', nan],\n",
       "      dtype=object)"
      ]
     },
     "execution_count": 116,
     "metadata": {},
     "output_type": "execute_result"
    }
   ],
   "source": [
    "loan_data['emp_length_int'].unique()"
   ]
  },
  {
   "cell_type": "markdown",
   "id": "a8b877ee",
   "metadata": {},
   "source": [
    "##### Term"
   ]
  },
  {
   "cell_type": "code",
   "execution_count": 129,
   "id": "f7e80e6d",
   "metadata": {},
   "outputs": [
    {
     "data": {
      "text/plain": [
       "0          36 months\n",
       "1          60 months\n",
       "2          36 months\n",
       "3          36 months\n",
       "4          60 months\n",
       "             ...    \n",
       "466280     60 months\n",
       "466281     60 months\n",
       "466282     60 months\n",
       "466283     36 months\n",
       "466284     36 months\n",
       "Name: term, Length: 466285, dtype: object"
      ]
     },
     "execution_count": 129,
     "metadata": {},
     "output_type": "execute_result"
    }
   ],
   "source": [
    "loan_data['term']"
   ]
  },
  {
   "cell_type": "code",
   "execution_count": null,
   "id": "e128ebea",
   "metadata": {},
   "outputs": [],
   "source": [
    "# TODO:\n",
    "# Create 'term_int' with term in months"
   ]
  },
  {
   "cell_type": "markdown",
   "id": "d189da6e",
   "metadata": {},
   "source": [
    "##### Date of earliest credit line"
   ]
  },
  {
   "cell_type": "code",
   "execution_count": 117,
   "id": "3527476b",
   "metadata": {},
   "outputs": [
    {
     "data": {
      "text/plain": [
       "'Jan-85'"
      ]
     },
     "execution_count": 117,
     "metadata": {},
     "output_type": "execute_result"
    }
   ],
   "source": [
    "loan_data['earliest_cr_line'][0]"
   ]
  },
  {
   "cell_type": "code",
   "execution_count": 118,
   "id": "4b8881e2",
   "metadata": {},
   "outputs": [],
   "source": [
    "loan_data['earliest_cr_line_date'] = pd.to_datetime(loan_data['earliest_cr_line'], format='%b-%y')"
   ]
  },
  {
   "cell_type": "code",
   "execution_count": 119,
   "id": "c850974e",
   "metadata": {},
   "outputs": [
    {
     "data": {
      "text/plain": [
       "Timestamp('1985-01-01 00:00:00')"
      ]
     },
     "execution_count": 119,
     "metadata": {},
     "output_type": "execute_result"
    }
   ],
   "source": [
    "loan_data['earliest_cr_line_date'][0]"
   ]
  },
  {
   "cell_type": "code",
   "execution_count": 120,
   "id": "dac5d2bf",
   "metadata": {},
   "outputs": [
    {
     "data": {
      "text/plain": [
       "Timestamp('2068-12-01 00:00:00')"
      ]
     },
     "execution_count": 120,
     "metadata": {},
     "output_type": "execute_result"
    }
   ],
   "source": [
    "loan_data['earliest_cr_line_date'].max()"
   ]
  },
  {
   "cell_type": "code",
   "execution_count": 121,
   "id": "7fb63402",
   "metadata": {},
   "outputs": [],
   "source": [
    "# Fixing incorrectly imputed dates\n",
    "loan_data['earliest_cr_line_date'] = [pd.to_datetime(str(e).replace('20', '19')) if e > pd.to_datetime('2017-12-01') else e for e in loan_data['earliest_cr_line_date']]"
   ]
  },
  {
   "cell_type": "code",
   "execution_count": 122,
   "id": "d1608599",
   "metadata": {},
   "outputs": [
    {
     "data": {
      "text/plain": [
       "Timestamp('2011-11-01 00:00:00')"
      ]
     },
     "execution_count": 122,
     "metadata": {},
     "output_type": "execute_result"
    }
   ],
   "source": [
    "loan_data['earliest_cr_line_date'].max()"
   ]
  },
  {
   "cell_type": "code",
   "execution_count": 123,
   "id": "68bc8227",
   "metadata": {},
   "outputs": [
    {
     "data": {
      "text/plain": [
       "0        12022 days\n",
       "1         6819 days\n",
       "2         5874 days\n",
       "3         7974 days\n",
       "4         8005 days\n",
       "            ...    \n",
       "466280    5358 days\n",
       "466281    7488 days\n",
       "466282    5844 days\n",
       "466283    5417 days\n",
       "466284    6513 days\n",
       "Name: earliest_cr_line_date, Length: 466285, dtype: timedelta64[ns]"
      ]
     },
     "execution_count": 123,
     "metadata": {},
     "output_type": "execute_result"
    }
   ],
   "source": [
    "# Reference date for elapsed months since earliest credit line\n",
    "pd.to_datetime('2017-12-01') - loan_data['earliest_cr_line_date']"
   ]
  },
  {
   "cell_type": "code",
   "execution_count": 124,
   "id": "f84351e5",
   "metadata": {},
   "outputs": [],
   "source": [
    "loan_data['mths_since_earliest_cr_line'] = round(pd.to_numeric((pd.to_datetime('2017-12-01') - loan_data['earliest_cr_line_date']) / np.timedelta64(1, 'M')))"
   ]
  },
  {
   "cell_type": "code",
   "execution_count": 125,
   "id": "21773007",
   "metadata": {},
   "outputs": [
    {
     "data": {
      "text/plain": [
       "0         395.0\n",
       "1         224.0\n",
       "2         193.0\n",
       "3         262.0\n",
       "4         263.0\n",
       "          ...  \n",
       "466280    176.0\n",
       "466281    246.0\n",
       "466282    192.0\n",
       "466283    178.0\n",
       "466284    214.0\n",
       "Name: mths_since_earliest_cr_line, Length: 466285, dtype: float64"
      ]
     },
     "execution_count": 125,
     "metadata": {},
     "output_type": "execute_result"
    }
   ],
   "source": [
    "loan_data['mths_since_earliest_cr_line']"
   ]
  },
  {
   "cell_type": "code",
   "execution_count": 126,
   "id": "aaa84d0d",
   "metadata": {},
   "outputs": [
    {
     "data": {
      "text/plain": [
       "count    466256.000000\n",
       "mean        242.491078\n",
       "std          86.928944\n",
       "min          73.000000\n",
       "25%         184.000000\n",
       "50%         226.000000\n",
       "75%         285.000000\n",
       "max         887.000000\n",
       "Name: mths_since_earliest_cr_line, dtype: float64"
      ]
     },
     "execution_count": 126,
     "metadata": {},
     "output_type": "execute_result"
    }
   ],
   "source": [
    "loan_data['mths_since_earliest_cr_line'].describe()"
   ]
  },
  {
   "cell_type": "code",
   "execution_count": 127,
   "id": "4290520a",
   "metadata": {},
   "outputs": [
    {
     "data": {
      "text/html": [
       "<div>\n",
       "<style scoped>\n",
       "    .dataframe tbody tr th:only-of-type {\n",
       "        vertical-align: middle;\n",
       "    }\n",
       "\n",
       "    .dataframe tbody tr th {\n",
       "        vertical-align: top;\n",
       "    }\n",
       "\n",
       "    .dataframe thead th {\n",
       "        text-align: right;\n",
       "    }\n",
       "</style>\n",
       "<table border=\"1\" class=\"dataframe\">\n",
       "  <thead>\n",
       "    <tr style=\"text-align: right;\">\n",
       "      <th></th>\n",
       "      <th>earliest_cr_line</th>\n",
       "      <th>earliest_cr_line_date</th>\n",
       "      <th>mths_since_earliest_cr_line</th>\n",
       "    </tr>\n",
       "  </thead>\n",
       "  <tbody>\n",
       "  </tbody>\n",
       "</table>\n",
       "</div>"
      ],
      "text/plain": [
       "Empty DataFrame\n",
       "Columns: [earliest_cr_line, earliest_cr_line_date, mths_since_earliest_cr_line]\n",
       "Index: []"
      ]
     },
     "execution_count": 127,
     "metadata": {},
     "output_type": "execute_result"
    }
   ],
   "source": [
    "# the issue caused by having dates in the future yielding negative months since earliest credit line has been fixed\n",
    "loan_data.loc[:, ['earliest_cr_line', 'earliest_cr_line_date', 'mths_since_earliest_cr_line']][loan_data['mths_since_earliest_cr_line'] < 0]"
   ]
  },
  {
   "cell_type": "markdown",
   "id": "86a7b4cd",
   "metadata": {},
   "source": [
    "##### Loan issued date"
   ]
  },
  {
   "cell_type": "code",
   "execution_count": 128,
   "id": "cfc3f80f",
   "metadata": {},
   "outputs": [
    {
     "data": {
      "text/plain": [
       "0         Dec-11\n",
       "1         Dec-11\n",
       "2         Dec-11\n",
       "3         Dec-11\n",
       "4         Dec-11\n",
       "           ...  \n",
       "466280    Jan-14\n",
       "466281    Jan-14\n",
       "466282    Jan-14\n",
       "466283    Jan-14\n",
       "466284    Jan-14\n",
       "Name: issue_d, Length: 466285, dtype: object"
      ]
     },
     "execution_count": 128,
     "metadata": {},
     "output_type": "execute_result"
    }
   ],
   "source": [
    "loan_data['issue_d']"
   ]
  },
  {
   "cell_type": "code",
   "execution_count": null,
   "id": "76fb14d8",
   "metadata": {},
   "outputs": [],
   "source": [
    "# TODO:\n",
    "# Create 'mths_since_issue_d' with months since issue date"
   ]
  }
 ],
 "metadata": {
  "kernelspec": {
   "display_name": "Python 3 (ipykernel)",
   "language": "python",
   "name": "python3"
  },
  "language_info": {
   "codemirror_mode": {
    "name": "ipython",
    "version": 3
   },
   "file_extension": ".py",
   "mimetype": "text/x-python",
   "name": "python",
   "nbconvert_exporter": "python",
   "pygments_lexer": "ipython3",
   "version": "3.11.0"
  }
 },
 "nbformat": 4,
 "nbformat_minor": 5
}
