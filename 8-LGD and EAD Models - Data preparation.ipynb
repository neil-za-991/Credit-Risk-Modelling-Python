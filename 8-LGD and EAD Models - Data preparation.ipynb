{
 "cells": [
  {
   "cell_type": "code",
   "execution_count": 106,
   "id": "e51c5517",
   "metadata": {},
   "outputs": [],
   "source": [
    "import pandas as pd\n",
    "import numpy as np\n",
    "pd.options.display.max_rows = None"
   ]
  },
  {
   "cell_type": "code",
   "execution_count": 107,
   "id": "93c3bdfd",
   "metadata": {},
   "outputs": [
    {
     "name": "stderr",
     "output_type": "stream",
     "text": [
      "C:\\Users\\User\\AppData\\Local\\Temp\\ipykernel_16756\\87031763.py:1: DtypeWarning: Columns (21,49) have mixed types. Specify dtype option on import or set low_memory=False.\n",
      "  loan_data_processed_backup = pd.read_csv(r'D:\\Datasets\\LendingClub\\loan_data_processed.csv')\n"
     ]
    }
   ],
   "source": [
    "loan_data_processed_backup = pd.read_csv(r'D:\\Datasets\\LendingClub\\loan_data_processed.csv')"
   ]
  },
  {
   "cell_type": "code",
   "execution_count": 108,
   "id": "61a750c9",
   "metadata": {},
   "outputs": [],
   "source": [
    "loan_data_processed = loan_data_processed_backup.copy()"
   ]
  },
  {
   "cell_type": "code",
   "execution_count": 109,
   "id": "91445014",
   "metadata": {},
   "outputs": [],
   "source": [
    "# LGD = percoentage of exposure that was lost after the borrower defaulted\n",
    "# EAD = amount of exposure at the moment the borrower defaulted"
   ]
  },
  {
   "cell_type": "code",
   "execution_count": 110,
   "id": "ba6e125f",
   "metadata": {},
   "outputs": [],
   "source": [
    "# when building LGD and EAD models it is good practice to build models with data \n",
    "# from borrowers that have had enough time to repay part of the remaining debt\n",
    "\n",
    "# eg.g loan_status = \"Charged Off\" or 'Does not meet the credit policy'"
   ]
  },
  {
   "cell_type": "code",
   "execution_count": 111,
   "id": "c42c5836",
   "metadata": {},
   "outputs": [
    {
     "data": {
      "text/plain": [
       "array(['Fully Paid', 'Charged Off', 'Current', 'Default',\n",
       "       'Late (31-120 days)', 'In Grace Period', 'Late (16-30 days)',\n",
       "       'Does not meet the credit policy. Status:Fully Paid',\n",
       "       'Does not meet the credit policy. Status:Charged Off'],\n",
       "      dtype=object)"
      ]
     },
     "execution_count": 111,
     "metadata": {},
     "output_type": "execute_result"
    }
   ],
   "source": [
    "loan_data_processed['loan_status'].unique()"
   ]
  },
  {
   "cell_type": "code",
   "execution_count": 112,
   "id": "b75174dd",
   "metadata": {},
   "outputs": [],
   "source": [
    "loan_data_processed['good_bad'] = np.where(loan_data_processed['loan_status'].isin(['Charged Off',\n",
    "                                                               'Defeault',\n",
    "                                                               'Does not meet the credit policy. Status:Charged Off',\n",
    "                                                               'Late (31-120 days)']), 0, 1)"
   ]
  },
  {
   "cell_type": "code",
   "execution_count": 113,
   "id": "8e1abe3b",
   "metadata": {},
   "outputs": [],
   "source": [
    "loan_data_defaults = loan_data_processed[loan_data_processed['loan_status'].isin(['Charged Off', 'Does not meet the credit policy. Status:Charged Off'])]"
   ]
  },
  {
   "cell_type": "code",
   "execution_count": 114,
   "id": "108ddd5c",
   "metadata": {},
   "outputs": [
    {
     "name": "stdout",
     "output_type": "stream",
     "text": [
      "% Proportion Defaulted accounts:  9.27\n"
     ]
    }
   ],
   "source": [
    "print(\"% Proportion Defaulted accounts: \", np.round(loan_data_defaults.shape[0] / loan_data_processed.shape[0] * 100, 2))"
   ]
  },
  {
   "cell_type": "code",
   "execution_count": 115,
   "id": "5d8be4fe",
   "metadata": {},
   "outputs": [
    {
     "data": {
      "text/plain": [
       "Unnamed: 0.1                                                           0\n",
       "Unnamed: 0                                                             0\n",
       "id                                                                     0\n",
       "member_id                                                              0\n",
       "loan_amnt                                                              0\n",
       "funded_amnt                                                            0\n",
       "funded_amnt_inv                                                        0\n",
       "term                                                                   0\n",
       "int_rate                                                               0\n",
       "installment                                                            0\n",
       "grade                                                                  0\n",
       "sub_grade                                                              0\n",
       "emp_title                                                           3287\n",
       "emp_length                                                          2337\n",
       "home_ownership                                                         0\n",
       "annual_inc                                                             0\n",
       "verification_status                                                    0\n",
       "issue_d                                                                0\n",
       "loan_status                                                            0\n",
       "pymnt_plan                                                             0\n",
       "url                                                                    0\n",
       "desc                                                               27396\n",
       "purpose                                                                0\n",
       "title                                                                  3\n",
       "zip_code                                                               0\n",
       "addr_state                                                             0\n",
       "dti                                                                    0\n",
       "delinq_2yrs                                                            0\n",
       "earliest_cr_line                                                       3\n",
       "inq_last_6mths                                                         0\n",
       "mths_since_last_delinq                                             23950\n",
       "mths_since_last_record                                             37821\n",
       "open_acc                                                               0\n",
       "pub_rec                                                                0\n",
       "revol_bal                                                              0\n",
       "revol_util                                                            53\n",
       "total_acc                                                              0\n",
       "initial_list_status                                                    0\n",
       "out_prncp                                                              0\n",
       "out_prncp_inv                                                          0\n",
       "total_pymnt                                                            0\n",
       "total_pymnt_inv                                                        0\n",
       "total_rec_prncp                                                        0\n",
       "total_rec_int                                                          0\n",
       "total_rec_late_fee                                                     0\n",
       "recoveries                                                             0\n",
       "collection_recovery_fee                                                0\n",
       "last_pymnt_d                                                         376\n",
       "last_pymnt_amnt                                                        0\n",
       "next_pymnt_d                                                       42475\n",
       "last_credit_pull_d                                                     6\n",
       "collections_12_mths_ex_med                                            28\n",
       "mths_since_last_major_derog                                        35283\n",
       "policy_code                                                            0\n",
       "application_type                                                       0\n",
       "annual_inc_joint                                                   43236\n",
       "dti_joint                                                          43236\n",
       "verification_status_joint                                          43236\n",
       "acc_now_delinq                                                         0\n",
       "tot_coll_amt                                                       10780\n",
       "tot_cur_bal                                                        10780\n",
       "open_acc_6m                                                        43236\n",
       "open_il_6m                                                         43236\n",
       "open_il_12m                                                        43236\n",
       "open_il_24m                                                        43236\n",
       "mths_since_rcnt_il                                                 43236\n",
       "total_bal_il                                                       43236\n",
       "il_util                                                            43236\n",
       "open_rv_12m                                                        43236\n",
       "open_rv_24m                                                        43236\n",
       "max_bal_bc                                                         43236\n",
       "all_util                                                           43236\n",
       "total_rev_hi_lim                                                       0\n",
       "inq_fi                                                             43236\n",
       "total_cu_tl                                                        43236\n",
       "inq_last_12m                                                       43236\n",
       "emp_length_int                                                         0\n",
       "empy_length_int                                                     2337\n",
       "term_int                                                               0\n",
       "earliest_cr_line_date                                                  3\n",
       "mths_since_earliest_cr_line                                            0\n",
       "mths_since_issue_d                                                     0\n",
       "grade:A                                                                0\n",
       "grade:B                                                                0\n",
       "grade:C                                                                0\n",
       "grade:D                                                                0\n",
       "grade:E                                                                0\n",
       "grade:F                                                                0\n",
       "grade:G                                                                0\n",
       "sub_grade:A1                                                           0\n",
       "sub_grade:A2                                                           0\n",
       "sub_grade:A3                                                           0\n",
       "sub_grade:A4                                                           0\n",
       "sub_grade:A5                                                           0\n",
       "sub_grade:B1                                                           0\n",
       "sub_grade:B2                                                           0\n",
       "sub_grade:B3                                                           0\n",
       "sub_grade:B4                                                           0\n",
       "sub_grade:B5                                                           0\n",
       "sub_grade:C1                                                           0\n",
       "sub_grade:C2                                                           0\n",
       "sub_grade:C3                                                           0\n",
       "sub_grade:C4                                                           0\n",
       "sub_grade:C5                                                           0\n",
       "sub_grade:D1                                                           0\n",
       "sub_grade:D2                                                           0\n",
       "sub_grade:D3                                                           0\n",
       "sub_grade:D4                                                           0\n",
       "sub_grade:D5                                                           0\n",
       "sub_grade:E1                                                           0\n",
       "sub_grade:E2                                                           0\n",
       "sub_grade:E3                                                           0\n",
       "sub_grade:E4                                                           0\n",
       "sub_grade:E5                                                           0\n",
       "sub_grade:F1                                                           0\n",
       "sub_grade:F2                                                           0\n",
       "sub_grade:F3                                                           0\n",
       "sub_grade:F4                                                           0\n",
       "sub_grade:F5                                                           0\n",
       "sub_grade:G1                                                           0\n",
       "sub_grade:G2                                                           0\n",
       "sub_grade:G3                                                           0\n",
       "sub_grade:G4                                                           0\n",
       "sub_grade:G5                                                           0\n",
       "home_ownership:ANY                                                     0\n",
       "home_ownership:MORTGAGE                                                0\n",
       "home_ownership:NONE                                                    0\n",
       "home_ownership:OTHER                                                   0\n",
       "home_ownership:OWN                                                     0\n",
       "home_ownership:RENT                                                    0\n",
       "verification_status:Not Verified                                       0\n",
       "verification_status:Source Verified                                    0\n",
       "verification_status:Verified                                           0\n",
       "loan_status:Charged Off                                                0\n",
       "loan_status:Current                                                    0\n",
       "loan_status:Default                                                    0\n",
       "loan_status:Does not meet the credit policy. Status:Charged Off        0\n",
       "loan_status:Does not meet the credit policy. Status:Fully Paid         0\n",
       "loan_status:Fully Paid                                                 0\n",
       "loan_status:In Grace Period                                            0\n",
       "loan_status:Late (16-30 days)                                          0\n",
       "loan_status:Late (31-120 days)                                         0\n",
       "purpose:car                                                            0\n",
       "purpose:credit_card                                                    0\n",
       "purpose:debt_consolidation                                             0\n",
       "purpose:educational                                                    0\n",
       "purpose:home_improvement                                               0\n",
       "purpose:house                                                          0\n",
       "purpose:major_purchase                                                 0\n",
       "purpose:medical                                                        0\n",
       "purpose:moving                                                         0\n",
       "purpose:other                                                          0\n",
       "purpose:renewable_energy                                               0\n",
       "purpose:small_business                                                 0\n",
       "purpose:vacation                                                       0\n",
       "purpose:wedding                                                        0\n",
       "addr_state:AK                                                          0\n",
       "addr_state:AL                                                          0\n",
       "addr_state:AR                                                          0\n",
       "addr_state:AZ                                                          0\n",
       "addr_state:CA                                                          0\n",
       "addr_state:CO                                                          0\n",
       "addr_state:CT                                                          0\n",
       "addr_state:DC                                                          0\n",
       "addr_state:DE                                                          0\n",
       "addr_state:FL                                                          0\n",
       "addr_state:GA                                                          0\n",
       "addr_state:HI                                                          0\n",
       "addr_state:IA                                                          0\n",
       "addr_state:ID                                                          0\n",
       "addr_state:IL                                                          0\n",
       "addr_state:IN                                                          0\n",
       "addr_state:KS                                                          0\n",
       "addr_state:KY                                                          0\n",
       "addr_state:LA                                                          0\n",
       "addr_state:MA                                                          0\n",
       "addr_state:MD                                                          0\n",
       "addr_state:ME                                                          0\n",
       "addr_state:MI                                                          0\n",
       "addr_state:MN                                                          0\n",
       "addr_state:MO                                                          0\n",
       "addr_state:MS                                                          0\n",
       "addr_state:MT                                                          0\n",
       "addr_state:NC                                                          0\n",
       "addr_state:NE                                                          0\n",
       "addr_state:NH                                                          0\n",
       "addr_state:NJ                                                          0\n",
       "addr_state:NM                                                          0\n",
       "addr_state:NV                                                          0\n",
       "addr_state:NY                                                          0\n",
       "addr_state:OH                                                          0\n",
       "addr_state:OK                                                          0\n",
       "addr_state:OR                                                          0\n",
       "addr_state:PA                                                          0\n",
       "addr_state:RI                                                          0\n",
       "addr_state:SC                                                          0\n",
       "addr_state:SD                                                          0\n",
       "addr_state:TN                                                          0\n",
       "addr_state:TX                                                          0\n",
       "addr_state:UT                                                          0\n",
       "addr_state:VA                                                          0\n",
       "addr_state:VT                                                          0\n",
       "addr_state:WA                                                          0\n",
       "addr_state:WI                                                          0\n",
       "addr_state:WV                                                          0\n",
       "addr_state:WY                                                          0\n",
       "initial_list_status:f                                                  0\n",
       "initial_list_status:w                                                  0\n",
       "good_bad                                                               0\n",
       "dtype: int64"
      ]
     },
     "execution_count": 115,
     "metadata": {},
     "output_type": "execute_result"
    }
   ],
   "source": [
    "loan_data_defaults.isnull().sum()"
   ]
  },
  {
   "cell_type": "markdown",
   "id": "22b31e05",
   "metadata": {},
   "source": [
    "### Independent variables"
   ]
  },
  {
   "cell_type": "code",
   "execution_count": 116,
   "id": "53cd511b",
   "metadata": {},
   "outputs": [
    {
     "name": "stderr",
     "output_type": "stream",
     "text": [
      "C:\\Users\\User\\AppData\\Local\\Temp\\ipykernel_16756\\733665988.py:9: SettingWithCopyWarning: \n",
      "A value is trying to be set on a copy of a slice from a DataFrame\n",
      "\n",
      "See the caveats in the documentation: https://pandas.pydata.org/pandas-docs/stable/user_guide/indexing.html#returning-a-view-versus-a-copy\n",
      "  loan_data_defaults['mths_since_last_delinq'].fillna(0, inplace = True)\n",
      "C:\\Users\\User\\AppData\\Local\\Temp\\ipykernel_16756\\733665988.py:10: SettingWithCopyWarning: \n",
      "A value is trying to be set on a copy of a slice from a DataFrame\n",
      "\n",
      "See the caveats in the documentation: https://pandas.pydata.org/pandas-docs/stable/user_guide/indexing.html#returning-a-view-versus-a-copy\n",
      "  loan_data_defaults['mths_since_last_record'].fillna(0, inplace = True)\n"
     ]
    }
   ],
   "source": [
    "# for LGD and EAD models, the independent variables do not need to be solely dummies\n",
    "# we will include the below as continuous\n",
    "# but we have to fill in missing values\n",
    "\n",
    "# mths_since_last_delinq\n",
    "# mths_since_last_record    \n",
    "\n",
    "# if risk modelling, take the most conservative route\n",
    "loan_data_defaults['mths_since_last_delinq'].fillna(0, inplace = True)\n",
    "loan_data_defaults['mths_since_last_record'].fillna(0, inplace = True)"
   ]
  },
  {
   "cell_type": "markdown",
   "id": "8ce31f99",
   "metadata": {},
   "source": [
    "### Dependent variables"
   ]
  },
  {
   "cell_type": "code",
   "execution_count": 117,
   "id": "0ebdd070",
   "metadata": {},
   "outputs": [
    {
     "name": "stderr",
     "output_type": "stream",
     "text": [
      "C:\\Users\\User\\AppData\\Local\\Temp\\ipykernel_16756\\1164199358.py:3: SettingWithCopyWarning: \n",
      "A value is trying to be set on a copy of a slice from a DataFrame.\n",
      "Try using .loc[row_indexer,col_indexer] = value instead\n",
      "\n",
      "See the caveats in the documentation: https://pandas.pydata.org/pandas-docs/stable/user_guide/indexing.html#returning-a-view-versus-a-copy\n",
      "  loan_data_defaults['recovery_rate'] = loan_data_defaults['recoveries'] / loan_data_defaults['funded_amnt']\n"
     ]
    }
   ],
   "source": [
    "# LGD = % exposure not recovered (1 - recovery rate)\n",
    "\n",
    "loan_data_defaults['recovery_rate'] = loan_data_defaults['recoveries'] / loan_data_defaults['funded_amnt']"
   ]
  },
  {
   "cell_type": "code",
   "execution_count": 118,
   "id": "63d041d0",
   "metadata": {},
   "outputs": [
    {
     "data": {
      "text/plain": [
       "count    43236.000000\n",
       "mean         0.060820\n",
       "std          0.089770\n",
       "min          0.000000\n",
       "25%          0.000000\n",
       "50%          0.029466\n",
       "75%          0.114044\n",
       "max          1.220774\n",
       "Name: recovery_rate, dtype: float64"
      ]
     },
     "execution_count": 118,
     "metadata": {},
     "output_type": "execute_result"
    }
   ],
   "source": [
    "loan_data_defaults['recovery_rate'].describe()"
   ]
  },
  {
   "cell_type": "code",
   "execution_count": 119,
   "id": "00e9c883",
   "metadata": {},
   "outputs": [
    {
     "name": "stderr",
     "output_type": "stream",
     "text": [
      "C:\\Users\\User\\AppData\\Local\\Temp\\ipykernel_16756\\2075275155.py:2: SettingWithCopyWarning: \n",
      "A value is trying to be set on a copy of a slice from a DataFrame.\n",
      "Try using .loc[row_indexer,col_indexer] = value instead\n",
      "\n",
      "See the caveats in the documentation: https://pandas.pydata.org/pandas-docs/stable/user_guide/indexing.html#returning-a-view-versus-a-copy\n",
      "  loan_data_defaults['recovery_rate'] = np.where(loan_data_defaults['recovery_rate'] > 1, 1, loan_data_defaults['recovery_rate'])\n",
      "C:\\Users\\User\\AppData\\Local\\Temp\\ipykernel_16756\\2075275155.py:3: SettingWithCopyWarning: \n",
      "A value is trying to be set on a copy of a slice from a DataFrame.\n",
      "Try using .loc[row_indexer,col_indexer] = value instead\n",
      "\n",
      "See the caveats in the documentation: https://pandas.pydata.org/pandas-docs/stable/user_guide/indexing.html#returning-a-view-versus-a-copy\n",
      "  loan_data_defaults['recovery_rate'] = np.where(loan_data_defaults['recovery_rate'] < 0, 0, loan_data_defaults['recovery_rate'])\n"
     ]
    }
   ],
   "source": [
    "# truncate > 1 to 1\n",
    "loan_data_defaults['recovery_rate'] = np.where(loan_data_defaults['recovery_rate'] > 1, 1, loan_data_defaults['recovery_rate'])\n",
    "loan_data_defaults['recovery_rate'] = np.where(loan_data_defaults['recovery_rate'] < 0, 0, loan_data_defaults['recovery_rate'])"
   ]
  },
  {
   "cell_type": "code",
   "execution_count": 120,
   "id": "3d05ec06",
   "metadata": {},
   "outputs": [
    {
     "data": {
      "text/plain": [
       "count    43236.000000\n",
       "mean         0.060770\n",
       "std          0.089202\n",
       "min          0.000000\n",
       "25%          0.000000\n",
       "50%          0.029466\n",
       "75%          0.114044\n",
       "max          1.000000\n",
       "Name: recovery_rate, dtype: float64"
      ]
     },
     "execution_count": 120,
     "metadata": {},
     "output_type": "execute_result"
    }
   ],
   "source": [
    "loan_data_defaults['recovery_rate'].describe()"
   ]
  },
  {
   "cell_type": "code",
   "execution_count": 121,
   "id": "c543c93d",
   "metadata": {},
   "outputs": [
    {
     "name": "stderr",
     "output_type": "stream",
     "text": [
      "C:\\Users\\User\\AppData\\Local\\Temp\\ipykernel_16756\\4131228371.py:6: SettingWithCopyWarning: \n",
      "A value is trying to be set on a copy of a slice from a DataFrame.\n",
      "Try using .loc[row_indexer,col_indexer] = value instead\n",
      "\n",
      "See the caveats in the documentation: https://pandas.pydata.org/pandas-docs/stable/user_guide/indexing.html#returning-a-view-versus-a-copy\n",
      "  loan_data_defaults['CCF'] = (loan_data_defaults['funded_amnt'] - loan_data_defaults['total_rec_prncp']) / loan_data_defaults['funded_amnt']\n"
     ]
    }
   ],
   "source": [
    "# exposure at default (EAD) = maximum that bank may lose when borrower defaults on a loan\n",
    "# EAD = funded amount outstanding at default\n",
    "# EAD = total funded amount x credit conversion factor\n",
    "# CCF = % of total exposure at default\n",
    "# EAD = CCF * funded amount\n",
    "loan_data_defaults['CCF'] = (loan_data_defaults['funded_amnt'] - loan_data_defaults['total_rec_prncp']) / loan_data_defaults['funded_amnt']"
   ]
  },
  {
   "cell_type": "code",
   "execution_count": 122,
   "id": "5f4664cd",
   "metadata": {},
   "outputs": [
    {
     "data": {
      "text/plain": [
       "count    43236.000000\n",
       "mean         0.735952\n",
       "std          0.200742\n",
       "min          0.000438\n",
       "25%          0.632088\n",
       "50%          0.789908\n",
       "75%          0.888543\n",
       "max          1.000000\n",
       "Name: CCF, dtype: float64"
      ]
     },
     "execution_count": 122,
     "metadata": {},
     "output_type": "execute_result"
    }
   ],
   "source": [
    "# CCF = 0 means all paid\n",
    "# CCF = 1 nothing has been paid\n",
    "loan_data_defaults['CCF'].describe()"
   ]
  },
  {
   "cell_type": "markdown",
   "id": "6158123e",
   "metadata": {},
   "source": [
    "### Explore Dependent Variables"
   ]
  },
  {
   "cell_type": "code",
   "execution_count": 123,
   "id": "e41cf216",
   "metadata": {},
   "outputs": [],
   "source": [
    "import matplotlib.pyplot as plt\n",
    "import seaborn as sns\n",
    "sns.set()"
   ]
  },
  {
   "cell_type": "code",
   "execution_count": 124,
   "id": "79961e73",
   "metadata": {},
   "outputs": [
    {
     "data": {
      "text/plain": [
       "(array([2.1023e+04, 1.8370e+03, 3.8730e+03, 1.3940e+03, 2.1330e+03,\n",
       "        3.3440e+03, 4.7650e+03, 1.7130e+03, 1.1790e+03, 4.0600e+02,\n",
       "        3.4100e+02, 2.7400e+02, 1.1700e+02, 9.3000e+01, 8.1000e+01,\n",
       "        7.3000e+01, 5.4000e+01, 7.2000e+01, 5.7000e+01, 3.0000e+01,\n",
       "        4.7000e+01, 2.7000e+01, 1.7000e+01, 1.5000e+01, 2.0000e+01,\n",
       "        2.3000e+01, 1.7000e+01, 7.0000e+00, 1.1000e+01, 7.0000e+00,\n",
       "        8.0000e+00, 7.0000e+00, 7.0000e+00, 8.0000e+00, 7.0000e+00,\n",
       "        1.0000e+01, 6.0000e+00, 1.1000e+01, 9.0000e+00, 9.0000e+00,\n",
       "        6.0000e+00, 6.0000e+00, 6.0000e+00, 3.0000e+00, 9.0000e+00,\n",
       "        9.0000e+00, 1.5000e+01, 8.0000e+00, 9.0000e+00, 3.3000e+01]),\n",
       " array([0.  , 0.02, 0.04, 0.06, 0.08, 0.1 , 0.12, 0.14, 0.16, 0.18, 0.2 ,\n",
       "        0.22, 0.24, 0.26, 0.28, 0.3 , 0.32, 0.34, 0.36, 0.38, 0.4 , 0.42,\n",
       "        0.44, 0.46, 0.48, 0.5 , 0.52, 0.54, 0.56, 0.58, 0.6 , 0.62, 0.64,\n",
       "        0.66, 0.68, 0.7 , 0.72, 0.74, 0.76, 0.78, 0.8 , 0.82, 0.84, 0.86,\n",
       "        0.88, 0.9 , 0.92, 0.94, 0.96, 0.98, 1.  ]),\n",
       " <BarContainer object of 50 artists>)"
      ]
     },
     "execution_count": 124,
     "metadata": {},
     "output_type": "execute_result"
    },
    {
     "data": {
      "image/png": "[encoded data removed]",
      "text/plain": [
       "<Figure size 640x480 with 1 Axes>"
      ]
     },
     "metadata": {},
     "output_type": "display_data"
    }
   ],
   "source": [
    "plt.hist(loan_data_defaults['recovery_rate'], bins=50)"
   ]
  },
  {
   "cell_type": "code",
   "execution_count": 125,
   "id": "be27c261",
   "metadata": {},
   "outputs": [
    {
     "data": {
      "text/plain": [
       "(array([  20.,   60.,   29.,   97.,   70.,   84.,  150.,   78.,  124.,\n",
       "         170.,  152.,  208.,  199.,  228.,  242.,  276.,  300.,  335.,\n",
       "         339.,  376.,  412.,  421.,  505.,  505.,  575.,  583.,  614.,\n",
       "         735.,  756.,  812.,  840.,  942.,  959., 1137., 1217., 1418.,\n",
       "        1431., 1580., 1732., 1850., 2003., 2151., 2123., 2376., 2447.,\n",
       "        2693., 2366., 2115., 1527.,  874.]),\n",
       " array([4.3800000e-04, 2.0429240e-02, 4.0420480e-02, 6.0411720e-02,\n",
       "        8.0402960e-02, 1.0039420e-01, 1.2038544e-01, 1.4037668e-01,\n",
       "        1.6036792e-01, 1.8035916e-01, 2.0035040e-01, 2.2034164e-01,\n",
       "        2.4033288e-01, 2.6032412e-01, 2.8031536e-01, 3.0030660e-01,\n",
       "        3.2029784e-01, 3.4028908e-01, 3.6028032e-01, 3.8027156e-01,\n",
       "        4.0026280e-01, 4.2025404e-01, 4.4024528e-01, 4.6023652e-01,\n",
       "        4.8022776e-01, 5.0021900e-01, 5.2021024e-01, 5.4020148e-01,\n",
       "        5.6019272e-01, 5.8018396e-01, 6.0017520e-01, 6.2016644e-01,\n",
       "        6.4015768e-01, 6.6014892e-01, 6.8014016e-01, 7.0013140e-01,\n",
       "        7.2012264e-01, 7.4011388e-01, 7.6010512e-01, 7.8009636e-01,\n",
       "        8.0008760e-01, 8.2007884e-01, 8.4007008e-01, 8.6006132e-01,\n",
       "        8.8005256e-01, 9.0004380e-01, 9.2003504e-01, 9.4002628e-01,\n",
       "        9.6001752e-01, 9.8000876e-01, 1.0000000e+00]),\n",
       " <BarContainer object of 50 artists>)"
      ]
     },
     "execution_count": 125,
     "metadata": {},
     "output_type": "execute_result"
    },
    {
     "data": {
      "image/png": "[encoded data removed]",
      "text/plain": [
       "<Figure size 640x480 with 1 Axes>"
      ]
     },
     "metadata": {},
     "output_type": "display_data"
    }
   ],
   "source": [
    "# CCF = 0 means all paid\n",
    "# CCF = 1 nothing has been paid\n",
    "\n",
    "plt.hist(loan_data_defaults['CCF'], bins=50)"
   ]
  },
  {
   "cell_type": "code",
   "execution_count": 126,
   "id": "e7507c9c",
   "metadata": {},
   "outputs": [],
   "source": [
    "# distribution of proportions = beta distribution"
   ]
  },
  {
   "cell_type": "code",
   "execution_count": 127,
   "id": "faa5d625",
   "metadata": {},
   "outputs": [
    {
     "name": "stderr",
     "output_type": "stream",
     "text": [
      "C:\\Users\\User\\AppData\\Local\\Temp\\ipykernel_16756\\2516049350.py:4: SettingWithCopyWarning: \n",
      "A value is trying to be set on a copy of a slice from a DataFrame.\n",
      "Try using .loc[row_indexer,col_indexer] = value instead\n",
      "\n",
      "See the caveats in the documentation: https://pandas.pydata.org/pandas-docs/stable/user_guide/indexing.html#returning-a-view-versus-a-copy\n",
      "  loan_data_defaults['recovery_rate_0_1'] = np.where(loan_data_defaults['recovery_rate'] == 0, 0, 1)\n"
     ]
    }
   ],
   "source": [
    "# for LGD, model whether recovery rate = 0 or not = use logistic regression\n",
    "# then if recovery rate is greater than 0 how much exactly is it? = use linear regression/beta regression\n",
    "\n",
    "loan_data_defaults['recovery_rate_0_1'] = np.where(loan_data_defaults['recovery_rate'] == 0, 0, 1)"
   ]
  },
  {
   "cell_type": "code",
   "execution_count": 128,
   "id": "b1ccb6cc",
   "metadata": {},
   "outputs": [],
   "source": [
    "# for CCF (EAD) multiple linear regression or beta regression in a single stage would suffice\n",
    "\n",
    "loan_data_defaults.to_csv(r'D:\\Datasets\\LendingClub\\loan_data_defaults.csv')"
   ]
  },
  {
   "cell_type": "code",
   "execution_count": null,
   "id": "5fa19177",
   "metadata": {},
   "outputs": [],
   "source": [
    "# https://gist.github.com/brentp/089c7d6d69d78d26437f\n",
    "# https://www.statsmodels.org/dev/generated/statsmodels.othermod.betareg.BetaModel.html"
   ]
  }
 ],
 "metadata": {
  "kernelspec": {
   "display_name": "Python 3 (ipykernel)",
   "language": "python",
   "name": "python3"
  },
  "language_info": {
   "codemirror_mode": {
    "name": "ipython",
    "version": 3
   },
   "file_extension": ".py",
   "mimetype": "text/x-python",
   "name": "python",
   "nbconvert_exporter": "python",
   "pygments_lexer": "ipython3",
   "version": "3.11.0"
  }
 },
 "nbformat": 4,
 "nbformat_minor": 5
}
